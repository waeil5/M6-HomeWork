{
 "cells": [
  {
   "cell_type": "code",
   "execution_count": 1,
   "id": "e35d92b5",
   "metadata": {},
   "outputs": [
    {
     "name": "stdout",
     "output_type": "stream",
     "text": [
      "Today is 2023-04-30\n"
     ]
    }
   ],
   "source": [
    "#import datetime and import today's date\n",
    "import datetime\n",
    "today = datetime.date.today()\n",
    "myFile = open('today.txt', 'w')\n",
    "myFile.write(str(today))\n",
    "myFile.close()\n",
    "\n",
    "# Read the text file today.txt \n",
    "myFile = open('today.txt', 'r')\n",
    "today_date = myFile.read()\n",
    "myFile.close()\n",
    "\n",
    "#Parse the date\n",
    "today = datetime.datetime.strptime(today_date, '%Y-%m-%d').date()\n",
    "print('Today is', today)"
   ]
  },
  {
   "cell_type": "code",
   "execution_count": 2,
   "id": "8d7ceabc",
   "metadata": {},
   "outputs": [
    {
     "name": "stdout",
     "output_type": "stream",
     "text": [
      "Today's date and time is 2023-04-30 18:33:59.766479\n",
      "Today's date and time is 2023-04-30 18:34:00.363310\n",
      "Today's date and time is 2023-04-30 18:34:01.034248\n",
      "Done\n"
     ]
    }
   ],
   "source": [
    "#import multiprocessing, time and random\n",
    "import multiprocessing\n",
    "from datetime import datetime\n",
    "import time\n",
    "import random\n",
    "\n",
    "#create a function named print_time()\n",
    "def print_time():\n",
    "    now = datetime.now()\n",
    "    print(\"Today's date and time is {}\".format(now))\n",
    "    time.sleep(random.random())\n",
    "\n",
    "#create if statement for process1, process2, and process3\n",
    "if __name__ == '__main__':\n",
    "    process1 = multiprocessing.Process(target=print_time())\n",
    "    process2 = multiprocessing.Process(target=print_time())\n",
    "    process3 = multiprocessing.Process(target=print_time())\n",
    "    process1.start()\n",
    "    process2.start()\n",
    "    process3.start()\n",
    "    process1.join()\n",
    "    process2.join()\n",
    "    process3.join()\n",
    "#print Done after completing\n",
    "    print('Done')"
   ]
  }
 ],
 "metadata": {
  "kernelspec": {
   "display_name": "Python 3 (ipykernel)",
   "language": "python",
   "name": "python3"
  },
  "language_info": {
   "codemirror_mode": {
    "name": "ipython",
    "version": 3
   },
   "file_extension": ".py",
   "mimetype": "text/x-python",
   "name": "python",
   "nbconvert_exporter": "python",
   "pygments_lexer": "ipython3",
   "version": "3.10.9"
  }
 },
 "nbformat": 4,
 "nbformat_minor": 5
}
